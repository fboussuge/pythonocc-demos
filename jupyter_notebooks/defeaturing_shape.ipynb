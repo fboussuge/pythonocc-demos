{
 "cells": [
  {
   "cell_type": "code",
   "execution_count": 10,
   "metadata": {},
   "outputs": [],
   "source": [
    "from OCC.Display.WebGl.jupyter_renderer import JupyterRenderer\n",
    "from OCC.Core.BRepPrimAPI import BRepPrimAPI_MakeBox,BRepPrimAPI_MakeCylinder\n",
    "from OCC.Core.BRepAlgoAPI import BRepAlgoAPI_Cut, BRepAlgoAPI_Defeaturing\n",
    "from OCC.Core.BRepFilletAPI import BRepFilletAPI_MakeFillet\n",
    "from OCC.Core.gp import gp_Vec\n",
    "from OCC.Extend.ShapeFactory import translate_shp\n",
    "from OCC.Core.GProp import GProp_GProps\n",
    "from OCC.Core.TopTools import TopTools_ListOfShape\n",
    "from OCC.Extend.TopologyUtils import TopologyExplorer"
   ]
  },
  {
   "cell_type": "code",
   "execution_count": 49,
   "metadata": {},
   "outputs": [],
   "source": [
    "box_shape = BRepPrimAPI_MakeBox(20, 20, 5).Shape()\n",
    "\n",
    "fillet = BRepFilletAPI_MakeFillet(box_shape)\n",
    "# Add fillet on one edge\n",
    "for i,e in enumerate(TopologyExplorer(box_shape).edges()):\n",
    "    if i == 5:\n",
    "        fillet.Add(2, e)\n",
    "        break\n",
    "blended_box = fillet.Shape()\n",
    "\n",
    "cylinder_shape = translate_shp(BRepPrimAPI_MakeCylinder(3, 5).Shape(), gp_Vec(10, 10, 0))\n",
    "cut_shape = BRepAlgoAPI_Cut(blended_box, cylinder_shape).Shape()"
   ]
  },
  {
   "cell_type": "code",
   "execution_count": 50,
   "metadata": {},
   "outputs": [],
   "source": [
    "def defeature_faces_from_solid(aSolid, aFaces):\n",
    "    '''\n",
    "    deafeature faces from a solid\n",
    "    @param aSolid:   the Topo_Solid to remove the faces from\n",
    "    @param aFaces:   the list of Topo_Face to remove\n",
    "    '''\n",
    "    \n",
    "    occ_seq = TopTools_ListOfShape()\n",
    "    for aFace in aFaces:\n",
    "        occ_seq.Append(aFace)\n",
    "    aDF = BRepAlgoAPI_Defeaturing()          # Defeaturing algorithm\n",
    "    aDF.SetShape(aSolid)                     # Set the shape\n",
    "    aDF.AddFacesToRemove(occ_seq)            # Add faces to remove\n",
    "    aDF.SetRunParallel(False)                # Define the processing mode (parallel or single)\n",
    "    aDF.SetToFillHistory(False)              # Define whether to track the shapes modifications\n",
    "    aDF.Build()\n",
    "    \n",
    "    if aDF.IsDone():\n",
    "        print(\"defeaturing is done\")\n",
    "    return aDF.Shape()"
   ]
  },
  {
   "cell_type": "code",
   "execution_count": 54,
   "metadata": {},
   "outputs": [
    {
     "data": {
      "application/vnd.jupyter.widget-view+json": {
       "model_id": "433e9b94b2e94d6dad3dbf46b487a1de",
       "version_major": 2,
       "version_minor": 0
      },
      "text/plain": [
       "HBox(children=(VBox(children=(HBox(children=(Checkbox(value=True, description='Axes', layout=Layout(height='au…"
      ]
     },
     "metadata": {},
     "output_type": "display_data"
    }
   ],
   "source": [
    "my_renderer = JupyterRenderer()\n",
    "my_renderer.DisplayShape(cut_shape, render_edges=True, topo_level=\"Face\", shape_color=\"#b2d1ba\", update=True)"
   ]
  },
  {
   "cell_type": "code",
   "execution_count": 58,
   "metadata": {},
   "outputs": [
    {
     "name": "stdout",
     "output_type": "stream",
     "text": [
      "defeaturing is done\n"
     ]
    }
   ],
   "source": [
    "sel_shape = my_renderer.GetSelectedShape()\n",
    "def_shape = defeature_faces_from_solid(cut_shape, [sel_shape])"
   ]
  },
  {
   "cell_type": "code",
   "execution_count": 59,
   "metadata": {},
   "outputs": [
    {
     "data": {
      "application/vnd.jupyter.widget-view+json": {
       "model_id": "293d615d0f514f0293dde90f6992e67c",
       "version_major": 2,
       "version_minor": 0
      },
      "text/plain": [
       "HBox(children=(VBox(children=(HBox(children=(Checkbox(value=True, description='Axes', layout=Layout(height='au…"
      ]
     },
     "metadata": {},
     "output_type": "display_data"
    }
   ],
   "source": [
    "my_renderer_2 = JupyterRenderer()\n",
    "my_renderer_2.DisplayShape(def_shape, render_edges=True, topo_level=\"Face\", shape_color=\"#b2d1ba\", update=True)"
   ]
  }
 ],
 "metadata": {
  "kernelspec": {
   "display_name": "Python 3",
   "language": "python",
   "name": "python3"
  },
  "language_info": {
   "codemirror_mode": {
    "name": "ipython",
    "version": 3
   },
   "file_extension": ".py",
   "mimetype": "text/x-python",
   "name": "python",
   "nbconvert_exporter": "python",
   "pygments_lexer": "ipython3",
   "version": "3.7.8"
  }
 },
 "nbformat": 4,
 "nbformat_minor": 2
}
