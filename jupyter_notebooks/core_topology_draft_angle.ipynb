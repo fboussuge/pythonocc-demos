{
 "cells": [
  {
   "cell_type": "markdown",
   "metadata": {},
   "source": [
    "# PythonOCC - Example - Topology - Draft Angle"
   ]
  },
  {
   "cell_type": "markdown",
   "metadata": {},
   "source": [
    "Example of the ***BRepOffsetAPI_DraftAngle*** function allows modifying a shape by applying draft angles to its planar, cylindrical and conical faces.<br>"
   ]
  },
  {
   "cell_type": "code",
   "execution_count": 1,
   "metadata": {},
   "outputs": [],
   "source": [
    "# imports from OCC.Core\n",
    "import math\n",
    "from OCC.Core.gp import gp_Dir, gp_Pln, gp_Ax3, gp_XOY\n",
    "from OCC.Core.BRepPrimAPI import BRepPrimAPI_MakeBox\n",
    "from OCC.Core.BRepOffsetAPI import BRepOffsetAPI_DraftAngle\n",
    "from OCC.Core.Precision import precision_Angular\n",
    "from OCC.Core.BRep import BRep_Tool_Surface\n",
    "from OCC.Core.TopExp import TopExp_Explorer\n",
    "from OCC.Core.TopAbs import TopAbs_FACE\n",
    "from OCC.Core.Geom import Handle_Geom_Plane_DownCast\n",
    "from OCC.Core.TopoDS import topods_Face"
   ]
  },
  {
   "cell_type": "code",
   "execution_count": 2,
   "metadata": {},
   "outputs": [],
   "source": [
    "# imports from Display and Extend\n",
    "from OCC.Display.WebGl.jupyter_renderer import JupyterRenderer\n",
    "from OCC.Extend.TopologyUtils import shape_type_string, dump_topology_to_string"
   ]
  },
  {
   "cell_type": "markdown",
   "metadata": {},
   "source": [
    "Creation of the Jupyter Renderer"
   ]
  },
  {
   "cell_type": "code",
   "execution_count": 3,
   "metadata": {},
   "outputs": [],
   "source": [
    "my_renderer = JupyterRenderer()"
   ]
  },
  {
   "cell_type": "markdown",
   "metadata": {},
   "source": [
    "Generation of a box"
   ]
  },
  {
   "cell_type": "code",
   "execution_count": 4,
   "metadata": {},
   "outputs": [],
   "source": [
    "S = BRepPrimAPI_MakeBox(20., 30., 15.).Shape()"
   ]
  },
  {
   "cell_type": "markdown",
   "metadata": {},
   "source": [
    "Apply a draft angle."
   ]
  },
  {
   "cell_type": "code",
   "execution_count": 5,
   "metadata": {},
   "outputs": [],
   "source": [
    "adraft = BRepOffsetAPI_DraftAngle(S)\n",
    "topExp = TopExp_Explorer()\n",
    "topExp.Init(S, TopAbs_FACE)\n",
    "while topExp.More():\n",
    "    face = topods_Face(topExp.Current())\n",
    "    surf = Handle_Geom_Plane_DownCast(BRep_Tool_Surface(face)).GetObject()\n",
    "    dirf = surf.Pln().Axis().Direction()\n",
    "    ddd = gp_Dir(0, 0, 1)\n",
    "    if dirf.IsNormal(ddd, precision_Angular()):\n",
    "        adraft.Add(face, ddd, math.radians(15), gp_Pln(gp_Ax3(gp_XOY())))\n",
    "    topExp.Next()\n",
    "adraft.Build()\n",
    "shp = adraft.Shape()"
   ]
  },
  {
   "cell_type": "code",
   "execution_count": 6,
   "metadata": {},
   "outputs": [],
   "source": [
    "my_renderer.DisplayShape(shp)"
   ]
  },
  {
   "cell_type": "code",
   "execution_count": 7,
   "metadata": {},
   "outputs": [],
   "source": [
    "grid = my_renderer.DisplayGrid(100, 100, 10, 10)"
   ]
  },
  {
   "cell_type": "code",
   "execution_count": 8,
   "metadata": {},
   "outputs": [
    {
     "data": {
      "application/vnd.jupyter.widget-view+json": {
       "model_id": "01deb3997adf41c8b452bcdc50b9ac64",
       "version_major": 2,
       "version_minor": 0
      },
      "text/plain": [
       "HBox(children=(Renderer(background='white', camera=PerspectiveCamera(children=(DirectionalLight(intensity=0.9,…"
      ]
     },
     "metadata": {},
     "output_type": "display_data"
    },
    {
     "data": {
      "text/plain": []
     },
     "execution_count": 8,
     "metadata": {},
     "output_type": "execute_result"
    }
   ],
   "source": [
    "my_renderer"
   ]
  },
  {
   "cell_type": "code",
   "execution_count": null,
   "metadata": {},
   "outputs": [],
   "source": []
  }
 ],
 "metadata": {
  "kernelspec": {
   "display_name": "Python 3",
   "language": "python",
   "name": "python3"
  },
  "language_info": {
   "codemirror_mode": {
    "name": "ipython",
    "version": 3
   },
   "file_extension": ".py",
   "mimetype": "text/x-python",
   "name": "python",
   "nbconvert_exporter": "python",
   "pygments_lexer": "ipython3",
   "version": "3.6.6"
  }
 },
 "nbformat": 4,
 "nbformat_minor": 2
}
